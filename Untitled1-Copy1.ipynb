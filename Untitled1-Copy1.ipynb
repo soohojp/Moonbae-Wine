{
 "cells": [
  {
   "cell_type": "code",
   "execution_count": 1,
   "metadata": {},
   "outputs": [],
   "source": [
    "#Import libraries\n",
    "import pandas as pd\n",
    "from bs4 import BeautifulSoup\n",
    "import requests\n",
    "import time\n",
    "import datetime\n",
    "import smtplib\n",
    "\n",
    "from selenium import webdriver\n",
    "from selenium.webdriver.chrome.service import Service\n",
    "from selenium.webdriver.common.by import By\n",
    "from selenium.webdriver.common.keys import Keys\n",
    "from selenium.webdriver.support.ui import Select\n",
    "from selenium.webdriver.support.ui import WebDriverWait\n",
    "from selenium.common.exceptions import TimeoutException\n",
    "from selenium.webdriver.support import expected_conditions as EC\n",
    "from selenium.common.exceptions import NoSuchElementException\n",
    "from selenium.common.exceptions import NoAlertPresentException\n",
    "from urllib.parse import urljoin\n",
    "\n",
    "import sys\n",
    "import os\n",
    "import unittest, time, re\n",
    "import scrapy"
   ]
  },
  {
   "cell_type": "code",
   "execution_count": null,
   "metadata": {
    "scrolled": true
   },
   "outputs": [],
   "source": [
    "pip install bs4"
   ]
  },
  {
   "cell_type": "markdown",
   "metadata": {},
   "source": [
    "# Data Scraping by Type of Wine"
   ]
  },
  {
   "cell_type": "markdown",
   "metadata": {},
   "source": [
    "## Red"
   ]
  },
  {
   "cell_type": "code",
   "execution_count": null,
   "metadata": {
    "scrolled": true
   },
   "outputs": [],
   "source": [
    "#Chrome webdriver to prepare for data scraping\n",
    "url_red = 'https://www.vivino.com/explore?e=eJzLLbI1VMvNzLM1UMtNrACSyZW2ocFqyUDCRa0AKJeeZluWWJSZWpKYo5ZflGKrlp9UaatWXhIdC5Qsts2rBAC8vhVs'\n",
    "url_white = 'https://www.vivino.com/explore?e=eJzLLbI1VMvNzLM1UMtNrACSyZW23kFqyUAiXK0AKJeeZluWWJSZWpKYo5ZflGKrlp9UaatWXhIda2sEAFT3E60%3D'\n",
    "url_sparkling = 'https://www.vivino.com/explore?e=eJzLLbI1VMvNzLM1UMtNrACSyZW23kFqyUAiXK0AKJeeZluWWJSZWpKYo5ZflGKrlp9UaatWXhIda2sMAFT4E64%3D'\n",
    "url_rose = 'https://www.vivino.com/explore?e=eJzLLbI1VMvNzLM1UMtNrACSyZW23kFqyUAiXK0AKJeeZluWWJSZWpKYo5ZflGKrlp9UaatWXhIda2sCAFT5E68%3D'\n",
    "url_dessert = 'https://www.vivino.com/explore?e=eJzLLbI1VMvNzLM1UMtNrACSyZW23kFqyUAiXK0AKJeeZluWWJSZWpKYo5ZflGKrlp9UaatWXhIda2sOAFT8E7I%3D'\n",
    "\n",
    "s = Service('/Users/soohojohn/Desktop/Flatiron/Moonbae Wine/chromedriver')\n",
    "driver = webdriver.Chrome(service=s)\n",
    "driver.get(url_red)\n",
    "time.sleep(2) # Allow 2 seconds for the web page to open\n",
    "scroll_pause_time = 2 # You can set your own pause time. My laptop is a bit slow so I use 1 sec\n",
    "        \n",
    "last_height = driver.execute_script(\"return document.body.scrollHeight\")\n",
    "\n",
    "while True:\n",
    "    # Scroll down to bottom\n",
    "    driver.execute_script(\"window.scrollTo(0, document.body.scrollHeight);\")\n",
    "\n",
    "    # Wait to load page\n",
    "    time.sleep(scroll_pause_time)\n",
    "\n",
    "    # Calculate new scroll height and compare with last scroll height\n",
    "    new_height = driver.execute_script(\"return document.body.scrollHeight\")\n",
    "    if new_height == last_height:\n",
    "        break\n",
    "    last_height = new_height\n",
    "\n",
    "name=[]\n",
    "location=[]\n",
    "rating=[]\n",
    "num_rating=[]\n",
    "price = []\n",
    "\n",
    "soup = BeautifulSoup(driver.page_source, \"html.parser\")\n",
    "\n",
    "for wine in soup.find_all('a', class_='_3qc2M wineCard__cardLink--3F_uB'):\n",
    "    name.append(wine.find(class_=\"wineInfoVintage__vintage--VvWlU wineInfoVintage__truncate--3QAtw\").text)\n",
    "    location.append(wine.find(class_='wineInfoLocation__regionAndCountry--1nEJz').text)\n",
    "    rating.append(wine.find(class_='_19ZcA').text)\n",
    "    num_rating.append(wine.find(class_= '_1_k5A').text)\n",
    "    if wine.find(class_='addToCart__subText--1pvFt addToCart__ppcPrice--ydrd5') is not None:\n",
    "        price.append(wine.find(class_='addToCart__subText--1pvFt addToCart__ppcPrice--ydrd5').text)\n",
    "    elif wine.find(class_='addToCart__subText--1pvFt addToCart__ppcPrice--ydrd5') is None:\n",
    "        price.append(wine.find(class_='addToCartButton__currency--2CTNX addToCartButton__prefix--3LzGf').find_next_sibling(\"div\").get_text())"
   ]
  },
  {
   "cell_type": "markdown",
   "metadata": {},
   "source": [
    "## White"
   ]
  },
  {
   "cell_type": "code",
   "execution_count": 2,
   "metadata": {},
   "outputs": [],
   "source": [
    "#Chrome webdriver to prepare for data scraping\n",
    "url_white = 'https://www.vivino.com/explore?e=eJzLLbI1VMvNzAORiRW2pgYGasmVtqHBaslAwkWtACienmZblliUmVqSmKOWX5Riq5afVGmrVl4SHWtrpFZs6-wIANrGFXA%3D'\n",
    "\n",
    "s = Service('/Users/soohojohn/Desktop/Flatiron/Moonbae Wine/chromedriver')\n",
    "driver = webdriver.Chrome(service=s)\n",
    "driver.get(url_white)\n",
    "time.sleep(5) # Allow 2 seconds for the web page to open\n",
    "scroll_pause_time = 5 # You can set your own pause time. My laptop is a bit slow so I use 1 sec\n",
    "        \n",
    "last_height = driver.execute_script(\"return document.body.scrollHeight\")\n",
    "\n",
    "while True:\n",
    "    # Scroll down to bottom\n",
    "    driver.execute_script(\"window.scrollTo(0, document.body.scrollHeight);\")\n",
    "\n",
    "    # Wait to load page\n",
    "    time.sleep(scroll_pause_time)\n",
    "\n",
    "    # Calculate new scroll height and compare with last scroll height\n",
    "    new_height = driver.execute_script(\"return document.body.scrollHeight\")\n",
    "    if new_height == last_height:\n",
    "        break\n",
    "    last_height = new_height\n",
    "    \n",
    "name=[]\n",
    "location=[]\n",
    "rating=[]\n",
    "num_rating=[]\n",
    "price = []\n",
    "\n",
    "soup = BeautifulSoup(driver.page_source, \"html.parser\")\n",
    "\n",
    "for wine in soup.find_all('a', class_='_3qc2M wineCard__cardLink--3F_uB'):\n",
    "    name.append(wine.find(class_=\"wineInfoVintage__vintage--VvWlU wineInfoVintage__truncate--3QAtw\").text)\n",
    "    location.append(wine.find(class_='wineInfoLocation__regionAndCountry--1nEJz').text)\n",
    "    rating.append(wine.find(class_='_19ZcA').text)\n",
    "    num_rating.append(wine.find(class_= '_1_k5A').text)\n",
    "    if wine.find(class_='addToCart__subText--1pvFt addToCart__ppcPrice--ydrd5') is not None:\n",
    "        price.append(wine.find(class_='addToCart__subText--1pvFt addToCart__ppcPrice--ydrd5').text)\n",
    "    elif wine.find(class_='addToCart__subText--1pvFt addToCart__ppcPrice--ydrd5') is None:\n",
    "        price.append(wine.find(class_='addToCartButton__currency--2CTNX addToCartButton__prefix--3LzGf').find_next_sibling(\"div\").get_text())"
   ]
  },
  {
   "cell_type": "code",
   "execution_count": null,
   "metadata": {},
   "outputs": [],
   "source": [
    "len(name)"
   ]
  },
  {
   "cell_type": "code",
   "execution_count": null,
   "metadata": {
    "scrolled": true
   },
   "outputs": [],
   "source": [
    "price[-3:]"
   ]
  },
  {
   "cell_type": "code",
   "execution_count": null,
   "metadata": {},
   "outputs": [],
   "source": []
  },
  {
   "cell_type": "code",
   "execution_count": null,
   "metadata": {},
   "outputs": [],
   "source": [
    "white_df = pd.DataFrame(\n",
    "    {'name': name,\n",
    "     'location': location,\n",
    "     'rating': rating,\n",
    "     'num_rating': num_rating,\n",
    "     'price': price\n",
    "    })\n",
    "white_df"
   ]
  },
  {
   "cell_type": "code",
   "execution_count": null,
   "metadata": {},
   "outputs": [],
   "source": [
    "white_df.to_csv('white.csv')"
   ]
  },
  {
   "cell_type": "markdown",
   "metadata": {},
   "source": [
    "## Sparkling"
   ]
  },
  {
   "cell_type": "code",
   "execution_count": null,
   "metadata": {},
   "outputs": [],
   "source": [
    "#Chrome webdriver to prepare for data scraping\n",
    "url_sparkling = 'https://www.vivino.com/explore?e=eJzLLbI1VMvNzLM1UMtNrACSyZW2ocFqyUDCRa0AKJeeZluWWJSZWpKYo5ZflGKrlp9UaatWXhIda2usVmzr7AgAvDwVCw%3D%3D'\n",
    "\n",
    "s = Service('/Users/soohojohn/Desktop/Flatiron/Moonbae Wine/chromedriver')\n",
    "driver = webdriver.Chrome(service=s)\n",
    "driver.get(url_sparkling)\n",
    "time.sleep(4) # Allow 2 seconds for the web page to open\\\n",
    "scroll_pause_time = 4 # You can set your own pause time. My laptop is a bit slow so I use 1 sec\n",
    "        \n",
    "last_height = driver.execute_script(\"return document.body.scrollHeight\")\n",
    "\n",
    "while True:\n",
    "    # Scroll down to bottom\n",
    "    driver.execute_script(\"window.scrollTo(0, document.body.scrollHeight);\")\n",
    "\n",
    "    # Wait to load page\n",
    "    time.sleep(scroll_pause_time)\n",
    "\n",
    "    # Calculate new scroll height and compare with last scroll height\n",
    "    new_height = driver.execute_script(\"return document.body.scrollHeight\")\n",
    "    if new_height == last_height:\n",
    "        break\n",
    "    last_height = new_height\n",
    "\n",
    "name=[]\n",
    "location=[]\n",
    "rating=[]\n",
    "num_rating=[]\n",
    "price = []\n",
    "\n",
    "soup = BeautifulSoup(driver.page_source, \"html.parser\")\n",
    "\n",
    "for wine in soup.find_all('a', class_='_3qc2M wineCard__cardLink--3F_uB'):\n",
    "    name.append(wine.find(class_=\"wineInfoVintage__vintage--VvWlU wineInfoVintage__truncate--3QAtw\").text)\n",
    "    location.append(wine.find(class_='wineInfoLocation__regionAndCountry--1nEJz').text)\n",
    "    rating.append(wine.find(class_='_19ZcA').text)\n",
    "    num_rating.append(wine.find(class_= '_1_k5A').text)\n",
    "    if wine.find(class_='addToCart__subText--1pvFt addToCart__ppcPrice--ydrd5') is not None:\n",
    "        price.append(wine.find(class_='addToCart__subText--1pvFt addToCart__ppcPrice--ydrd5').text)\n",
    "    elif wine.find(class_='addToCart__subText--1pvFt addToCart__ppcPrice--ydrd5') is None:\n",
    "        price.append(wine.find(class_='addToCartButton__currency--2CTNX addToCartButton__prefix--3LzGf').find_next_sibling(\"div\").get_text())"
   ]
  },
  {
   "cell_type": "code",
   "execution_count": null,
   "metadata": {},
   "outputs": [],
   "source": [
    "len(name)"
   ]
  },
  {
   "cell_type": "code",
   "execution_count": null,
   "metadata": {},
   "outputs": [],
   "source": [
    "sparkling_df = pd.DataFrame(\n",
    "    {'name': name,\n",
    "     'location': location,\n",
    "     'rating': rating,\n",
    "     'num_rating': num_rating,\n",
    "     'price': price\n",
    "    })\n",
    "sparkling_df"
   ]
  },
  {
   "cell_type": "code",
   "execution_count": null,
   "metadata": {},
   "outputs": [],
   "source": [
    "sparkling_df.to_csv('sparkling.csv')"
   ]
  },
  {
   "cell_type": "markdown",
   "metadata": {},
   "source": [
    "### Rose"
   ]
  },
  {
   "cell_type": "code",
   "execution_count": null,
   "metadata": {},
   "outputs": [],
   "source": [
    "#Chrome webdriver to prepare for data scraping\n",
    "url_rose = 'https://www.vivino.com/explore?e=eJzLLbI1VMvNzLM1UMtNrACSyZW2ocFqyUDCRa0AKJeeZluWWJSZWpKYo5ZflGKrlp9UaatWXhIda2uiVmzr7AgAvEIVDA%3D%3D'\n",
    "\n",
    "s = Service('/Users/soohojohn/Desktop/Flatiron/Moonbae Wine/chromedriver')\n",
    "driver = webdriver.Chrome(service=s)\n",
    "driver.get(url_rose)\n",
    "time.sleep(2) # Allow 2 seconds for the web page to open\n",
    "scroll_pause_time = 2 # You can set your own pause time. My laptop is a bit slow so I use 1 sec\n",
    "        \n",
    "last_height = driver.execute_script(\"return document.body.scrollHeight\")\n",
    "\n",
    "while True:\n",
    "    # Scroll down to bottom\n",
    "    driver.execute_script(\"window.scrollTo(0, document.body.scrollHeight);\")\n",
    "\n",
    "    # Wait to load page\n",
    "    time.sleep(scroll_pause_time)\n",
    "\n",
    "    # Calculate new scroll height and compare with last scroll height\n",
    "    new_height = driver.execute_script(\"return document.body.scrollHeight\")\n",
    "    if new_height == last_height:\n",
    "        break\n",
    "    last_height = new_height\n",
    "\n",
    "name=[]\n",
    "location=[]\n",
    "rating=[]\n",
    "num_rating=[]\n",
    "price = []\n",
    "\n",
    "soup = BeautifulSoup(driver.page_source, \"html.parser\")\n",
    "\n",
    "for wine in soup.find_all('a', class_='_3qc2M wineCard__cardLink--3F_uB'):\n",
    "    name.append(wine.find(class_=\"wineInfoVintage__vintage--VvWlU wineInfoVintage__truncate--3QAtw\").text)\n",
    "    location.append(wine.find(class_='wineInfoLocation__regionAndCountry--1nEJz').text)\n",
    "    rating.append(wine.find(class_='_19ZcA').text)\n",
    "    num_rating.append(wine.find(class_= '_1_k5A').text)\n",
    "    if wine.find(class_='addToCart__subText--1pvFt addToCart__ppcPrice--ydrd5') is not None:\n",
    "        price.append(wine.find(class_='addToCart__subText--1pvFt addToCart__ppcPrice--ydrd5').text)\n",
    "    elif wine.find(class_='addToCart__subText--1pvFt addToCart__ppcPrice--ydrd5') is None:\n",
    "        price.append(wine.find(class_='addToCartButton__currency--2CTNX addToCartButton__prefix--3LzGf').find_next_sibling(\"div\").get_text())"
   ]
  },
  {
   "cell_type": "code",
   "execution_count": null,
   "metadata": {},
   "outputs": [],
   "source": [
    "rose_df = pd.DataFrame(\n",
    "    {'name': name,\n",
    "     'location': location,\n",
    "     'rating': rating,\n",
    "     'num_rating': num_rating,\n",
    "     'price': price\n",
    "    })\n",
    "rose_df"
   ]
  },
  {
   "cell_type": "code",
   "execution_count": null,
   "metadata": {},
   "outputs": [],
   "source": [
    "rose_df.to_csv('rose.csv')"
   ]
  },
  {
   "cell_type": "code",
   "execution_count": null,
   "metadata": {},
   "outputs": [],
   "source": [
    "pd.read_csv('rose.csv')"
   ]
  },
  {
   "cell_type": "markdown",
   "metadata": {},
   "source": [
    "### Dessert"
   ]
  },
  {
   "cell_type": "code",
   "execution_count": null,
   "metadata": {},
   "outputs": [],
   "source": [
    "#Chrome webdriver to prepare for data scrapingb\n",
    "url_dessert = 'https://www.vivino.com/explore?e=eJzLLbI1VMvNzLM1UMtNrACSyZW2ocFqyUDCRa0AKJeeZluWWJSZWpKYo5ZflGKrlp9UaatWXhIda2uuVmybnAgAvLQVTw%3D%3D'\n",
    "\n",
    "s = Service('/Users/soohojohn/Desktop/Flatiron/Moonbae Wine/chromedriver')\n",
    "driver = webdriver.Chrome(service=s)\n",
    "driver.get(url_dessert)\n",
    "time.sleep(2) # Allow 2 seconds for the web page to open\n",
    "scroll_pause_time = 2 # You can set your own pause time. My laptop is a bit slow so I use 1 sec\n",
    "        \n",
    "last_height = driver.execute_script(\"return document.body.scrollHeight\")\n",
    "\n",
    "while True:\n",
    "    # Scroll down to bottom\n",
    "    driver.execute_script(\"window.scrollTo(0, document.body.scrollHeight);\")\n",
    "\n",
    "    # Wait to load page\n",
    "    time.sleep(scroll_pause_time)\n",
    "\n",
    "    # Calculate new scroll height and compare with last scroll height\n",
    "    new_height = driver.execute_script(\"return document.body.scrollHeight\")\n",
    "    if new_height == last_height:\n",
    "        break\n",
    "    last_height = new_height\n",
    "\n",
    "name=[]\n",
    "location=[]\n",
    "rating=[]\n",
    "num_rating=[]\n",
    "price = []\n",
    "\n",
    "soup = BeautifulSoup(driver.page_source, \"html.parser\")\n",
    "\n",
    "for wine in soup.find_all('a', class_='_3qc2M wineCard__cardLink--3F_uB'):\n",
    "    name.append(wine.find(class_=\"wineInfoVintage__vintage--VvWlU wineInfoVintage__truncate--3QAtw\").text)\n",
    "    location.append(wine.find(class_='wineInfoLocation__regionAndCountry--1nEJz').text)\n",
    "    rating.append(wine.find(class_='_19ZcA').text)\n",
    "    num_rating.append(wine.find(class_= '_1_k5A').text)\n",
    "    if wine.find(class_='addToCart__subText--1pvFt addToCart__ppcPrice--ydrd5') is not None:\n",
    "        price.append(wine.find(class_='addToCart__subText--1pvFt addToCart__ppcPrice--ydrd5').text)\n",
    "    elif wine.find(class_='addToCart__subText--1pvFt addToCart__ppcPrice--ydrd5') is None:\n",
    "        price.append(wine.find(class_='addToCartButton__currency--2CTNX addToCartButton__prefix--3LzGf').find_next_sibling(\"div\").get_text())"
   ]
  },
  {
   "cell_type": "code",
   "execution_count": null,
   "metadata": {
    "scrolled": true
   },
   "outputs": [],
   "source": [
    "len(name)"
   ]
  },
  {
   "cell_type": "code",
   "execution_count": null,
   "metadata": {
    "scrolled": true
   },
   "outputs": [],
   "source": [
    "dessert_df = pd.DataFrame(\n",
    "    {'name': name,\n",
    "     'location': location,\n",
    "     'rating': rating,\n",
    "     'num_rating': num_rating,\n",
    "     'price': price\n",
    "    })\n",
    "dessert_df"
   ]
  },
  {
   "cell_type": "code",
   "execution_count": null,
   "metadata": {},
   "outputs": [],
   "source": [
    "dessert_df.to_csv('dessert.csv')"
   ]
  },
  {
   "cell_type": "markdown",
   "metadata": {},
   "source": [
    "### Fortified"
   ]
  },
  {
   "cell_type": "code",
   "execution_count": null,
   "metadata": {},
   "outputs": [],
   "source": [
    "#Chrome webdriver to prepare for data scraping\n",
    "url_fortified = 'https://www.vivino.com/explore?e=eJzLLbI1VMvNzLM1UMtNrACSyZW2ocFqyUDCRa0AKJeeZluWWJSZWpKYo5ZflGKrlp9UaatWXhIda2tkolZs6-wIANEeFT4%3D'\n",
    "\n",
    "s = Service('/Users/soohojohn/Desktop/Flatiron/Moonbae Wine/chromedriver')\n",
    "driver = webdriver.Chrome(service=s)\n",
    "driver.get(url_fortified)\n",
    "time.sleep(2) # Allow 2 seconds for the web page to open\n",
    "scroll_pause_time = 2 # You can set your own pause time. My laptop is a bit slow so I use 1 sec\n",
    "        \n",
    "last_height = driver.execute_script(\"return document.body.scrollHeight\")\n",
    "\n",
    "while True:\n",
    "    # Scroll down to bottom\n",
    "    driver.execute_script(\"window.scrollTo(0, document.body.scrollHeight);\")\n",
    "\n",
    "    # Wait to load page\n",
    "    time.sleep(scroll_pause_time)\n",
    "\n",
    "    # Calculate new scroll height and compare with last scroll height\n",
    "    new_height = driver.execute_script(\"return document.body.scrollHeight\")\n",
    "    if new_height == last_height:\n",
    "        break\n",
    "    last_height = new_height\n",
    "\n",
    "name=[]\n",
    "location=[]\n",
    "rating=[]\n",
    "num_rating=[]\n",
    "price = []\n",
    "\n",
    "soup = BeautifulSoup(driver.page_source, \"html.parser\")\n",
    "\n",
    "for wine in soup.find_all('a', class_='_3qc2M wineCard__cardLink--3F_uB'):\n",
    "    name.append(wine.find(class_=\"wineInfoVintage__vintage--VvWlU wineInfoVintage__truncate--3QAtw\").text)\n",
    "    location.append(wine.find(class_='wineInfoLocation__regionAndCountry--1nEJz').text)\n",
    "    rating.append(wine.find(class_='_19ZcA').text)\n",
    "    num_rating.append(wine.find(class_= '_1_k5A').text)\n",
    "    if wine.find(class_='addToCart__subText--1pvFt addToCart__ppcPrice--ydrd5') is not None:\n",
    "        price.append(wine.find(class_='addToCart__subText--1pvFt addToCart__ppcPrice--ydrd5').text)\n",
    "    elif wine.find(class_='addToCart__subText--1pvFt addToCart__ppcPrice--ydrd5') is None:\n",
    "        price.append(wine.find(class_='addToCartButton__currency--2CTNX addToCartButton__prefix--3LzGf').find_next_sibling(\"div\").get_text())"
   ]
  },
  {
   "cell_type": "code",
   "execution_count": null,
   "metadata": {},
   "outputs": [],
   "source": [
    "fortified_df = pd.DataFrame(\n",
    "    {'name': name,\n",
    "     'location': location,\n",
    "     'rating': rating,\n",
    "     'num_rating': num_rating,\n",
    "     'price': price\n",
    "    })\n",
    "fortified_df"
   ]
  },
  {
   "cell_type": "code",
   "execution_count": null,
   "metadata": {},
   "outputs": [],
   "source": [
    "fortified_df.to_csv('fortified.csv')"
   ]
  },
  {
   "cell_type": "code",
   "execution_count": null,
   "metadata": {},
   "outputs": [],
   "source": [
    "vivino_df = pd.DataFrame(\n",
    "    {'name': name,\n",
    "     'location': location,\n",
    "     'rating': rating,\n",
    "     'num_rating': num_rating,\n",
    "     'price': price\n",
    "    })\n",
    "vivino_df"
   ]
  },
  {
   "cell_type": "code",
   "execution_count": null,
   "metadata": {},
   "outputs": [],
   "source": [
    "vivino_df[vivino_df['location']=='Gevrey-Chambertin Premier Cru, France']"
   ]
  },
  {
   "cell_type": "code",
   "execution_count": null,
   "metadata": {},
   "outputs": [],
   "source": []
  }
 ],
 "metadata": {
  "kernelspec": {
   "display_name": "Python 3",
   "language": "python",
   "name": "python3"
  },
  "language_info": {
   "codemirror_mode": {
    "name": "ipython",
    "version": 3
   },
   "file_extension": ".py",
   "mimetype": "text/x-python",
   "name": "python",
   "nbconvert_exporter": "python",
   "pygments_lexer": "ipython3",
   "version": "3.8.5"
  }
 },
 "nbformat": 4,
 "nbformat_minor": 4
}
