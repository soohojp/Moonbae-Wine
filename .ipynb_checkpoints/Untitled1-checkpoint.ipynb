{
 "cells": [
  {
   "cell_type": "code",
   "execution_count": null,
   "metadata": {},
   "outputs": [],
   "source": [
    "#Import libraries\n",
    "from bs4 import BeautifulSoup\n",
    "import requests\n",
    "import time\n",
    "import datetime\n",
    "import smtplib\n",
    "\n",
    "from selenium import webdriver\n",
    "from selenium.webdriver.chrome.service import Service\n",
    "from selenium.webdriver.common.by import By\n",
    "from selenium.webdriver.common.keys import Keys\n",
    "from selenium.webdriver.support.ui import Select\n",
    "from selenium.webdriver.support.ui import WebDriverWait\n",
    "from selenium.common.exceptions import TimeoutException\n",
    "from selenium.webdriver.support import expected_conditions as EC\n",
    "from selenium.common.exceptions import NoSuchElementException\n",
    "from selenium.common.exceptions import NoAlertPresentException\n",
    "from urllib.parse import urljoin\n",
    "\n",
    "import sys\n",
    "import os\n",
    "import unittest, time, re\n",
    "import scrapy"
   ]
  },
  {
   "cell_type": "code",
   "execution_count": null,
   "metadata": {},
   "outputs": [],
   "source": [
    "#Chrome webdriver to prepare for data scraping\n",
    "url = 'https://www.vivino.com/explore?e=eJzLLbI1VMvNzLM1UMtNrACSyZW2ocFqyUDCRa0AKJeeZluWWJSZWpKYo5ZflGKrlp9UaatWbJuXBQAuDhMm'\n",
    "s = Service('/Users/soohojohn/Desktop/Flatiron/Moonbae Wine/chromedriver')\n",
    "driver = webdriver.Chrome(service=s)\n",
    "driver.get(url)\n",
    "time.sleep(3)\n",
    "scroll_pause_time = 1 # You can set your own pause time. My laptop is a bit slow so I use 1 sec\n",
    "screen_height = driver.execute_script(\"return window.screen.height;\")   # get the screen height of the web\n",
    "i = 1\n",
    "\n",
    "#//*[@id=\"explore-page-app\"]/div/div/div[2]/div[2]/div[1]/div[1]/div/a/div/div[2]/div/div[1]/div[2]\n",
    "#//*[@id=\"explore-page-app\"]/div/div/div[2]/div[2]/div[1]/div[1]/div/a/div/div[3]/div[1]/div[1]\n",
    "#//*[@id=\"explore-page-app\"]/div/div/div[2]/div[1]/div[1]/div/a/div[1]/div[2]/div[1]/div[2]/div[2]\n",
    "#//*[@id=\"explore-page-app\"]/div/div/div[2]/div[1]/div[1]/div/a/div[2]/div[2]/div\n",
    "#driver.find_element(By.CLASS_NAME, \"quiz_button\")\n",
    "while True:\n",
    "    # scroll one screen height each time\n",
    "    driver.execute_script(\"window.scrollTo(0, {screen_height}*{i});\".format(screen_height=screen_height, i=i))  \n",
    "    i += 1\n",
    "    time.sleep(scroll_pause_time)\n",
    "    # update scroll height each time after scrolled, as the scroll height can change after we scrolled the page\n",
    "    scroll_height = driver.execute_script(\"return document.body.scrollHeight;\")  \n",
    "    # Break the loop when the height we need to scroll to is larger than the total scroll height\n",
    "    if (screen_height) * i > scroll_height:\n",
    "        break \n",
    "\n",
    "name=[]\n",
    "location=[]\n",
    "rating=[]\n",
    "num_rating=[]\n",
    "\n",
    "soup = BeautifulSoup(driver.page_source, \"html.parser\")\n",
    "for wine in soup.find_all('a', class_='_3qc2M wineCard__cardLink--3F_uB'):\n",
    "    name.append(wine.find(class_=\"wineInfoVintage__vintage--VvWlU wineInfoVintage__truncate--3QAtw\").text)\n",
    "    location.append(wine.find(class_='wineInfoLocation__regionAndCountry--1nEJz').text)\n",
    "    rating.append(wine.find(class_='_19ZcA').text)\n",
    "    num_rating.append(wine.find(class_= '_1_k5A').text)"
   ]
  }
 ],
 "metadata": {
  "kernelspec": {
   "display_name": "Python 3",
   "language": "python",
   "name": "python3"
  },
  "language_info": {
   "codemirror_mode": {
    "name": "ipython",
    "version": 3
   },
   "file_extension": ".py",
   "mimetype": "text/x-python",
   "name": "python",
   "nbconvert_exporter": "python",
   "pygments_lexer": "ipython3",
   "version": "3.8.5"
  }
 },
 "nbformat": 4,
 "nbformat_minor": 4
}
