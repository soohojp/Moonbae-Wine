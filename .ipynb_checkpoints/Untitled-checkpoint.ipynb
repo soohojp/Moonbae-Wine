{
 "cells": [
  {
   "cell_type": "code",
   "execution_count": 9,
   "metadata": {},
   "outputs": [],
   "source": [
    "#Import libraries\n",
    "from bs4 import BeautifulSoup\n",
    "import requests\n",
    "import time\n",
    "import datetime\n",
    "import smtplib\n",
    "\n",
    "from selenium import webdriver\n",
    "from selenium.webdriver.chrome.service import Service\n",
    "from selenium.webdriver.common.by import By\n",
    "from selenium.webdriver.common.keys import Keys\n",
    "from selenium.webdriver.support.ui import Select\n",
    "from selenium.webdriver.support.ui import WebDriverWait\n",
    "from selenium.common.exceptions import TimeoutException\n",
    "from selenium.webdriver.support import expected_conditions as EC\n",
    "from selenium.common.exceptions import NoSuchElementException\n",
    "from selenium.common.exceptions import NoAlertPresentException\n",
    "from urllib.parse import urljoin\n",
    "\n",
    "import sys\n",
    "import os\n",
    "import unittest, time, re\n",
    "import scrapy"
   ]
  },
  {
   "cell_type": "code",
   "execution_count": null,
   "metadata": {},
   "outputs": [],
   "source": [
    "pip install webdriver-manager"
   ]
  },
  {
   "cell_type": "code",
   "execution_count": null,
   "metadata": {},
   "outputs": [],
   "source": [
    "$ scrapy shell https://www.vivino.com/api/wines/1403662/reviews?per_page=1&page=1&year=2017&language=en"
   ]
  },
  {
   "cell_type": "code",
   "execution_count": null,
   "metadata": {},
   "outputs": [],
   "source": [
    "scrapy shell https://www.vivino.com/api/vintages/155686306/highlights?language=en"
   ]
  },
  {
   "cell_type": "code",
   "execution_count": null,
   "metadata": {},
   "outputs": [],
   "source": [
    "os.path.abspath('chromedriver')"
   ]
  },
  {
   "cell_type": "code",
   "execution_count": null,
   "metadata": {
    "scrolled": true
   },
   "outputs": [],
   "source": [
    "#Chrome webdriver to prepare for data scraping\n",
    "url = 'https://www.vivino.com/explore?e=eJzLLbI1VMvNzLM1UMtNrACSyZW2ocFqyUDCRa0AKJeeZluWWJSZWpKYo5ZflGKrlp9UaatWbJuXBQAuDhMm'\n",
    "s = Service('/Users/soohojohn/Desktop/Flatiron/Moonbae Wine/chromedriver')\n",
    "driver = webdriver.Chrome(service=s)\n",
    "driver.get(url)\n",
    "time.sleep(3)\n",
    "\n",
    "#//*[@id=\"explore-page-app\"]/div/div/div[2]/div[2]/div[1]/div[1]/div/a/div/div[2]/div/div[1]/div[2]\n",
    "#//*[@id=\"explore-page-app\"]/div/div/div[2]/div[2]/div[1]/div[1]/div/a/div/div[3]/div[1]/div[1]\n",
    "#//*[@id=\"explore-page-app\"]/div/div/div[2]/div[1]/div[1]/div/a/div[1]/div[2]/div[1]/div[2]/div[2]\n",
    "#//*[@id=\"explore-page-app\"]/div/div/div[2]/div[1]/div[1]/div/a/div[2]/div[2]/div\n",
    "#driver.find_element(By.CLASS_NAME, \"quiz_button\")\n",
    "wines = driver.find_elements(By.CLASS_NAME, 'class=\"wineCard__wineCard--2dj2T')\n",
    "for wine in wines:\n",
    "    name = wine.find_element_by_xpath('.//*[@id=\"explore-page-app\"]/div/div/div[2]/div[1]/div[1]/div/a/div[2]/div[1]/div[2]').text\n",
    "    rating = wine.find_element_by_xpath('.//*[@id=\"explore-page-app\"]/div/div/div[2]/div[2]/div[1]/div[1]/div/a/div/div[3]/div[1]/div[1]').text\n",
    "    num_review = wine.find_element_by_xpath('.//*[@id=\"explore-page-app\"]/div/div/div[2]/div[1]/div[1]/div/a/div[1]/div[2]/div[1]/div[2]/div[2]').text\n",
    "    region = wine.find_element_by_xpath('.//*[@id=\"explore-page-app\"]/div/div/div[2]/div[1]/div[1]/div/a/div[2]/div[2]/div').text\n",
    "    print(name,rating,num_review,region)\n",
    "print(name)"
   ]
  },
  {
   "cell_type": "code",
   "execution_count": null,
   "metadata": {},
   "outputs": [],
   "source": [
    "python -m pip install selenium"
   ]
  },
  {
   "cell_type": "code",
   "execution_count": null,
   "metadata": {},
   "outputs": [],
   "source": [
    "  #scrolling to the end of the page, before going to the next\n",
    "#previous_height = driver.execute_script('return document.document.body.scrollHeight')\n",
    "\n",
    "#continuing to scroll through infinite pages\n",
    "while True:\n",
    "        driver.execute_script('window.scrollTo(0, document.body.scrollHeight);')\n",
    "        time.sleep(3)\n",
    "        new_height = driver.execute_script('return document.document.body.scrollHeight')\n",
    "        if new_height == previous_height:\n",
    "            break\n",
    "        previous_height = new_height\n",
    "\n",
    "posts = driver.find_elements_by_class_name('wineInfoVintage__vintage--VvWlU wineInfoVintage__truncate--3QAtw')\n",
    "\n",
    "for block in posts:\n",
    "    print(block.text)\n"
   ]
  },
  {
   "cell_type": "code",
   "execution_count": 15,
   "metadata": {},
   "outputs": [],
   "source": [
    "#Chrome webdriver to prepare for data scraping\n",
    "url = 'https://www.vivino.com/explore?e=eJzLLbI1VMvNzLM1UMtNrACSyZW2ocFqyUDCRa0AKJeeZluWWJSZWpKYo5ZflGKrlp9UaatWbJuXBQAuDhMm'\n",
    "s = Service('/Users/soohojohn/Desktop/Flatiron/Moonbae Wine/chromedriver')\n",
    "driver = webdriver.Chrome(service=s)\n",
    "driver.get(url)\n",
    "time.sleep(3)\n",
    "\n",
    "#//*[@id=\"explore-page-app\"]/div/div/div[2]/div[2]/div[1]/div[1]/div/a/div/div[2]/div/div[1]/div[2]\n",
    "#//*[@id=\"explore-page-app\"]/div/div/div[2]/div[2]/div[1]/div[1]/div/a/div/div[3]/div[1]/div[1]\n",
    "#//*[@id=\"explore-page-app\"]/div/div/div[2]/div[1]/div[1]/div/a/div[1]/div[2]/div[1]/div[2]/div[2]\n",
    "#//*[@id=\"explore-page-app\"]/div/div/div[2]/div[1]/div[1]/div/a/div[2]/div[2]/div\n",
    "#driver.find_element(By.CLASS_NAME, \"quiz_button\")\n",
    "#while True:\n",
    "        #driver.execute_script('window.scrollTo(0, document.body.scrollHeight);')\n",
    "        #time.sleep(3)\n",
    "        #new_height = driver.execute_script('return document.document.body.scrollHeight')\n",
    "        #if new_height == previous_height:\n",
    "            #break\n",
    "       # previous_height = new_height\n",
    "\n",
    "urls = []\n",
    "soup = BeautifulSoup(driver.page_source, \"html.parser\")\n",
    "for parent in soup.find_all(class_=\"card__card--2R5Wh wineCard__wineCardContent--3cwZt\"):\n",
    "    a_tag = parent.find(\"a\", class_=\"_3qc2M wineCard__cardLink--3F_uB\")\n",
    "    base = \"vivino.com\"\n",
    "    link = a_tag.attrs['href']\n",
    "    url = urljoin(base, link)\n",
    "    urls.append(url)"
   ]
  },
  {
   "cell_type": "code",
   "execution_count": 19,
   "metadata": {},
   "outputs": [],
   "source": [
    "#Chrome webdriver to prepare for data scraping\n",
    "url = 'https://www.vivino.com/explore?e=eJzLLbI1VMvNzLM1UMtNrACSyZW2ocFqyUDCRa0AKJeeZluWWJSZWpKYo5ZflGKrlp9UaatWbJuXBQAuDhMm'\n",
    "s = Service('/Users/soohojohn/Desktop/Flatiron/Moonbae Wine/chromedriver')\n",
    "driver = webdriver.Chrome(service=s)\n",
    "driver.get(url)\n",
    "time.sleep(3)\n",
    "\n",
    "#//*[@id=\"explore-page-app\"]/div/div/div[2]/div[2]/div[1]/div[1]/div/a/div/div[2]/div/div[1]/div[2]\n",
    "#//*[@id=\"explore-page-app\"]/div/div/div[2]/div[2]/div[1]/div[1]/div/a/div/div[3]/div[1]/div[1]\n",
    "#//*[@id=\"explore-page-app\"]/div/div/div[2]/div[1]/div[1]/div/a/div[1]/div[2]/div[1]/div[2]/div[2]\n",
    "#//*[@id=\"explore-page-app\"]/div/div/div[2]/div[1]/div[1]/div/a/div[2]/div[2]/div\n",
    "#driver.find_element(By.CLASS_NAME, \"quiz_button\")\n",
    "#while True:\n",
    "        #driver.execute_script('window.scrollTo(0, document.body.scrollHeight);')\n",
    "        #time.sleep(3)\n",
    "        #new_height = driver.execute_script('return document.document.body.scrollHeight')\n",
    "        #if new_height == previous_height:\n",
    "            #break\n",
    "       # previous_height = new_height\n",
    "\n",
    "urls=[]\n",
    "name=[]\n",
    "location=[]\n",
    "rating=[]\n",
    "num_rating=[]\n",
    "\n",
    "soup = BeautifulSoup(driver.page_source, \"html.parser\")\n",
    "for wine in soup.find_all('a', class_='_3qc2M wineCard__cardLink--3F_uB'):\n",
    "    name.append(wine.find(class_=\"wineInfoVintage__vintage--VvWlU wineInfoVintage__truncate--3QAtw\").text)\n",
    "    location.append(wine.find(class_='wineInfoLocation__regionAndCountry--1nEJz').text)\n",
    "    rating.append(wine.find(class_='_19ZcA').text)\n",
    "    num_rating.append(wine.find(class_= '_1_k5A').text)\n",
    "    \n",
    "    #base = \"vivino.com\"\n",
    "    #link = a_tag.attrs['href']\n",
    "    #url = urljoin(base, link)\n",
    "    #urls.append(url)\n"
   ]
  },
  {
   "cell_type": "code",
   "execution_count": 21,
   "metadata": {
    "scrolled": false
   },
   "outputs": [
    {
     "data": {
      "text/plain": [
       "['Sta. Rita Hills, United States',\n",
       " 'Napa Valley, United States',\n",
       " 'Rutherford, United States',\n",
       " 'Napa Valley, United States',\n",
       " 'Santa Lucia Highlands, United States',\n",
       " 'Paso Robles, United States',\n",
       " 'Napa Valley, United States',\n",
       " 'Rutherford, United States',\n",
       " 'Rutherford, United States',\n",
       " 'Napa Valley, United States',\n",
       " 'Oakville, United States',\n",
       " 'Oakville, United States',\n",
       " 'Napa Valley, United States',\n",
       " 'Barolo, Italy',\n",
       " 'Sonoma Coast, United States',\n",
       " 'Stags Leap District, United States',\n",
       " 'Porto, Portugal',\n",
       " 'Pomerol, France',\n",
       " 'Porto, Portugal',\n",
       " 'Napa Valley, United States',\n",
       " 'Oakville, United States',\n",
       " 'Napa Valley, United States',\n",
       " 'Napa Valley, United States',\n",
       " 'Sauternes, France',\n",
       " 'Diamond Mountain District, United States']"
      ]
     },
     "execution_count": 21,
     "metadata": {},
     "output_type": "execute_result"
    }
   ],
   "source": [
    "location"
   ]
  },
  {
   "cell_type": "code",
   "execution_count": 23,
   "metadata": {},
   "outputs": [
    {
     "ename": "JavascriptException",
     "evalue": "Message: javascript error: Cannot read properties of undefined (reading 'body')\n  (Session info: chrome=99.0.4844.83)\nStacktrace:\n0   chromedriver                        0x000000010d7f7159 chromedriver + 5120345\n1   chromedriver                        0x000000010d784b13 chromedriver + 4651795\n2   chromedriver                        0x000000010d374e68 chromedriver + 392808\n3   chromedriver                        0x000000010d377f17 chromedriver + 405271\n4   chromedriver                        0x000000010d377dc1 chromedriver + 404929\n5   chromedriver                        0x000000010d37897d chromedriver + 407933\n6   chromedriver                        0x000000010d3db393 chromedriver + 811923\n7   chromedriver                        0x000000010d3c7b42 chromedriver + 731970\n8   chromedriver                        0x000000010d3da637 chromedriver + 808503\n9   chromedriver                        0x000000010d3c7a33 chromedriver + 731699\n10  chromedriver                        0x000000010d39d5dd chromedriver + 558557\n11  chromedriver                        0x000000010d39e4f5 chromedriver + 562421\n12  chromedriver                        0x000000010d7b438d chromedriver + 4846477\n13  chromedriver                        0x000000010d7ce21c chromedriver + 4952604\n14  chromedriver                        0x000000010d7d3a12 chromedriver + 4975122\n15  chromedriver                        0x000000010d7ceb4a chromedriver + 4954954\n16  chromedriver                        0x000000010d7a95b0 chromedriver + 4801968\n17  chromedriver                        0x000000010d7e8f78 chromedriver + 5062520\n18  chromedriver                        0x000000010d7e90ff chromedriver + 5062911\n19  chromedriver                        0x000000010d7fe545 chromedriver + 5150021\n20  libsystem_pthread.dylib             0x00007fff6de91e65 _pthread_start + 148\n21  libsystem_pthread.dylib             0x00007fff6de8d83b thread_start + 15\n",
     "output_type": "error",
     "traceback": [
      "\u001b[0;31m---------------------------------------------------------------------------\u001b[0m",
      "\u001b[0;31mJavascriptException\u001b[0m                       Traceback (most recent call last)",
      "\u001b[0;32m<ipython-input-23-d5bf1ad1f36f>\u001b[0m in \u001b[0;36m<module>\u001b[0;34m\u001b[0m\n\u001b[1;32m     13\u001b[0m         \u001b[0mdriver\u001b[0m\u001b[0;34m.\u001b[0m\u001b[0mexecute_script\u001b[0m\u001b[0;34m(\u001b[0m\u001b[0;34m'window.scrollTo(0, document.body.scrollHeight);'\u001b[0m\u001b[0;34m)\u001b[0m\u001b[0;34m\u001b[0m\u001b[0;34m\u001b[0m\u001b[0m\n\u001b[1;32m     14\u001b[0m         \u001b[0mtime\u001b[0m\u001b[0;34m.\u001b[0m\u001b[0msleep\u001b[0m\u001b[0;34m(\u001b[0m\u001b[0;36m3\u001b[0m\u001b[0;34m)\u001b[0m\u001b[0;34m\u001b[0m\u001b[0;34m\u001b[0m\u001b[0m\n\u001b[0;32m---> 15\u001b[0;31m         \u001b[0mnew_height\u001b[0m \u001b[0;34m=\u001b[0m \u001b[0mdriver\u001b[0m\u001b[0;34m.\u001b[0m\u001b[0mexecute_script\u001b[0m\u001b[0;34m(\u001b[0m\u001b[0;34m'return document.document.body.scrollHeight'\u001b[0m\u001b[0;34m)\u001b[0m\u001b[0;34m\u001b[0m\u001b[0;34m\u001b[0m\u001b[0m\n\u001b[0m\u001b[1;32m     16\u001b[0m         \u001b[0;32mif\u001b[0m \u001b[0mnew_height\u001b[0m \u001b[0;34m==\u001b[0m \u001b[0mprevious_height\u001b[0m\u001b[0;34m:\u001b[0m\u001b[0;34m\u001b[0m\u001b[0;34m\u001b[0m\u001b[0m\n\u001b[1;32m     17\u001b[0m             \u001b[0;32mbreak\u001b[0m\u001b[0;34m\u001b[0m\u001b[0;34m\u001b[0m\u001b[0m\n",
      "\u001b[0;32m/opt/anaconda3/envs/learn-env/lib/python3.8/site-packages/selenium/webdriver/remote/webdriver.py\u001b[0m in \u001b[0;36mexecute_script\u001b[0;34m(self, script, *args)\u001b[0m\n\u001b[1;32m    877\u001b[0m         \u001b[0mcommand\u001b[0m \u001b[0;34m=\u001b[0m \u001b[0mCommand\u001b[0m\u001b[0;34m.\u001b[0m\u001b[0mW3C_EXECUTE_SCRIPT\u001b[0m\u001b[0;34m\u001b[0m\u001b[0;34m\u001b[0m\u001b[0m\n\u001b[1;32m    878\u001b[0m \u001b[0;34m\u001b[0m\u001b[0m\n\u001b[0;32m--> 879\u001b[0;31m         return self.execute(command, {\n\u001b[0m\u001b[1;32m    880\u001b[0m             \u001b[0;34m'script'\u001b[0m\u001b[0;34m:\u001b[0m \u001b[0mscript\u001b[0m\u001b[0;34m,\u001b[0m\u001b[0;34m\u001b[0m\u001b[0;34m\u001b[0m\u001b[0m\n\u001b[1;32m    881\u001b[0m             'args': converted_args})['value']\n",
      "\u001b[0;32m/opt/anaconda3/envs/learn-env/lib/python3.8/site-packages/selenium/webdriver/remote/webdriver.py\u001b[0m in \u001b[0;36mexecute\u001b[0;34m(self, driver_command, params)\u001b[0m\n\u001b[1;32m    423\u001b[0m         \u001b[0mresponse\u001b[0m \u001b[0;34m=\u001b[0m \u001b[0mself\u001b[0m\u001b[0;34m.\u001b[0m\u001b[0mcommand_executor\u001b[0m\u001b[0;34m.\u001b[0m\u001b[0mexecute\u001b[0m\u001b[0;34m(\u001b[0m\u001b[0mdriver_command\u001b[0m\u001b[0;34m,\u001b[0m \u001b[0mparams\u001b[0m\u001b[0;34m)\u001b[0m\u001b[0;34m\u001b[0m\u001b[0;34m\u001b[0m\u001b[0m\n\u001b[1;32m    424\u001b[0m         \u001b[0;32mif\u001b[0m \u001b[0mresponse\u001b[0m\u001b[0;34m:\u001b[0m\u001b[0;34m\u001b[0m\u001b[0;34m\u001b[0m\u001b[0m\n\u001b[0;32m--> 425\u001b[0;31m             \u001b[0mself\u001b[0m\u001b[0;34m.\u001b[0m\u001b[0merror_handler\u001b[0m\u001b[0;34m.\u001b[0m\u001b[0mcheck_response\u001b[0m\u001b[0;34m(\u001b[0m\u001b[0mresponse\u001b[0m\u001b[0;34m)\u001b[0m\u001b[0;34m\u001b[0m\u001b[0;34m\u001b[0m\u001b[0m\n\u001b[0m\u001b[1;32m    426\u001b[0m             response['value'] = self._unwrap_value(\n\u001b[1;32m    427\u001b[0m                 response.get('value', None))\n",
      "\u001b[0;32m/opt/anaconda3/envs/learn-env/lib/python3.8/site-packages/selenium/webdriver/remote/errorhandler.py\u001b[0m in \u001b[0;36mcheck_response\u001b[0;34m(self, response)\u001b[0m\n\u001b[1;32m    245\u001b[0m                 \u001b[0malert_text\u001b[0m \u001b[0;34m=\u001b[0m \u001b[0mvalue\u001b[0m\u001b[0;34m[\u001b[0m\u001b[0;34m'alert'\u001b[0m\u001b[0;34m]\u001b[0m\u001b[0;34m.\u001b[0m\u001b[0mget\u001b[0m\u001b[0;34m(\u001b[0m\u001b[0;34m'text'\u001b[0m\u001b[0;34m)\u001b[0m\u001b[0;34m\u001b[0m\u001b[0;34m\u001b[0m\u001b[0m\n\u001b[1;32m    246\u001b[0m             \u001b[0;32mraise\u001b[0m \u001b[0mexception_class\u001b[0m\u001b[0;34m(\u001b[0m\u001b[0mmessage\u001b[0m\u001b[0;34m,\u001b[0m \u001b[0mscreen\u001b[0m\u001b[0;34m,\u001b[0m \u001b[0mstacktrace\u001b[0m\u001b[0;34m,\u001b[0m \u001b[0malert_text\u001b[0m\u001b[0;34m)\u001b[0m  \u001b[0;31m# type: ignore[call-arg]  # mypy is not smart enough here\u001b[0m\u001b[0;34m\u001b[0m\u001b[0;34m\u001b[0m\u001b[0m\n\u001b[0;32m--> 247\u001b[0;31m         \u001b[0;32mraise\u001b[0m \u001b[0mexception_class\u001b[0m\u001b[0;34m(\u001b[0m\u001b[0mmessage\u001b[0m\u001b[0;34m,\u001b[0m \u001b[0mscreen\u001b[0m\u001b[0;34m,\u001b[0m \u001b[0mstacktrace\u001b[0m\u001b[0;34m)\u001b[0m\u001b[0;34m\u001b[0m\u001b[0;34m\u001b[0m\u001b[0m\n\u001b[0m\u001b[1;32m    248\u001b[0m \u001b[0;34m\u001b[0m\u001b[0m\n\u001b[1;32m    249\u001b[0m     \u001b[0;32mdef\u001b[0m \u001b[0m_value_or_default\u001b[0m\u001b[0;34m(\u001b[0m\u001b[0mself\u001b[0m\u001b[0;34m,\u001b[0m \u001b[0mobj\u001b[0m\u001b[0;34m:\u001b[0m \u001b[0mMapping\u001b[0m\u001b[0;34m[\u001b[0m\u001b[0m_KT\u001b[0m\u001b[0;34m,\u001b[0m \u001b[0m_VT\u001b[0m\u001b[0;34m]\u001b[0m\u001b[0;34m,\u001b[0m \u001b[0mkey\u001b[0m\u001b[0;34m:\u001b[0m \u001b[0m_KT\u001b[0m\u001b[0;34m,\u001b[0m \u001b[0mdefault\u001b[0m\u001b[0;34m:\u001b[0m \u001b[0m_VT\u001b[0m\u001b[0;34m)\u001b[0m \u001b[0;34m->\u001b[0m \u001b[0m_VT\u001b[0m\u001b[0;34m:\u001b[0m\u001b[0;34m\u001b[0m\u001b[0;34m\u001b[0m\u001b[0m\n",
      "\u001b[0;31mJavascriptException\u001b[0m: Message: javascript error: Cannot read properties of undefined (reading 'body')\n  (Session info: chrome=99.0.4844.83)\nStacktrace:\n0   chromedriver                        0x000000010d7f7159 chromedriver + 5120345\n1   chromedriver                        0x000000010d784b13 chromedriver + 4651795\n2   chromedriver                        0x000000010d374e68 chromedriver + 392808\n3   chromedriver                        0x000000010d377f17 chromedriver + 405271\n4   chromedriver                        0x000000010d377dc1 chromedriver + 404929\n5   chromedriver                        0x000000010d37897d chromedriver + 407933\n6   chromedriver                        0x000000010d3db393 chromedriver + 811923\n7   chromedriver                        0x000000010d3c7b42 chromedriver + 731970\n8   chromedriver                        0x000000010d3da637 chromedriver + 808503\n9   chromedriver                        0x000000010d3c7a33 chromedriver + 731699\n10  chromedriver                        0x000000010d39d5dd chromedriver + 558557\n11  chromedriver                        0x000000010d39e4f5 chromedriver + 562421\n12  chromedriver                        0x000000010d7b438d chromedriver + 4846477\n13  chromedriver                        0x000000010d7ce21c chromedriver + 4952604\n14  chromedriver                        0x000000010d7d3a12 chromedriver + 4975122\n15  chromedriver                        0x000000010d7ceb4a chromedriver + 4954954\n16  chromedriver                        0x000000010d7a95b0 chromedriver + 4801968\n17  chromedriver                        0x000000010d7e8f78 chromedriver + 5062520\n18  chromedriver                        0x000000010d7e90ff chromedriver + 5062911\n19  chromedriver                        0x000000010d7fe545 chromedriver + 5150021\n20  libsystem_pthread.dylib             0x00007fff6de91e65 _pthread_start + 148\n21  libsystem_pthread.dylib             0x00007fff6de8d83b thread_start + 15\n"
     ]
    }
   ],
   "source": [
    "url = 'https://www.vivino.com/explore?e=eJzLLbI1VMvNzLM1UMtNrACSyZW2ocFqyUDCRa0AKJeeZluWWJSZWpKYo5ZflGKrlp9UaatWbJuXBQAuDhMm'\n",
    "s = Service('/Users/soohojohn/Desktop/Flatiron/Moonbae Wine/chromedriver')\n",
    "driver = webdriver.Chrome(service=s)\n",
    "driver.get(url)\n",
    "time.sleep(3)\n",
    "\n",
    "#//*[@id=\"explore-page-app\"]/div/div/div[2]/div[2]/div[1]/div[1]/div/a/div/div[2]/div/div[1]/div[2]\n",
    "#//*[@id=\"explore-page-app\"]/div/div/div[2]/div[2]/div[1]/div[1]/div/a/div/div[3]/div[1]/div[1]\n",
    "#//*[@id=\"explore-page-app\"]/div/div/div[2]/div[1]/div[1]/div/a/div[1]/div[2]/div[1]/div[2]/div[2]\n",
    "#//*[@id=\"explore-page-app\"]/div/div/div[2]/div[1]/div[1]/div/a/div[2]/div[2]/div\n",
    "#driver.find_element(By.CLASS_NAME, \"quiz_button\")\n",
    "while True:\n",
    "        driver.execute_script('window.scrollTo(0, document.body.scrollHeight);')\n",
    "        time.sleep(3)\n",
    "        new_height = driver.execute_script('return document.document.body.scrollHeight')\n",
    "        if new_height == previous_height:\n",
    "            break\n",
    "        previous_height = new_height"
   ]
  },
  {
   "cell_type": "code",
   "execution_count": 24,
   "metadata": {},
   "outputs": [
    {
     "ename": "NameError",
     "evalue": "name 'screen_height' is not defined",
     "output_type": "error",
     "traceback": [
      "\u001b[0;31m---------------------------------------------------------------------------\u001b[0m",
      "\u001b[0;31mNameError\u001b[0m                                 Traceback (most recent call last)",
      "\u001b[0;32m<ipython-input-24-586f8ac54796>\u001b[0m in \u001b[0;36m<module>\u001b[0;34m\u001b[0m\n\u001b[1;32m     13\u001b[0m \u001b[0;32mwhile\u001b[0m \u001b[0;32mTrue\u001b[0m\u001b[0;34m:\u001b[0m\u001b[0;34m\u001b[0m\u001b[0;34m\u001b[0m\u001b[0m\n\u001b[1;32m     14\u001b[0m     \u001b[0;31m# scroll one screen height each time\u001b[0m\u001b[0;34m\u001b[0m\u001b[0;34m\u001b[0m\u001b[0;34m\u001b[0m\u001b[0m\n\u001b[0;32m---> 15\u001b[0;31m     \u001b[0mdriver\u001b[0m\u001b[0;34m.\u001b[0m\u001b[0mexecute_script\u001b[0m\u001b[0;34m(\u001b[0m\u001b[0;34m\"window.scrollTo(0, {screen_height}*{i});\"\u001b[0m\u001b[0;34m.\u001b[0m\u001b[0mformat\u001b[0m\u001b[0;34m(\u001b[0m\u001b[0mscreen_height\u001b[0m\u001b[0;34m=\u001b[0m\u001b[0mscreen_height\u001b[0m\u001b[0;34m,\u001b[0m \u001b[0mi\u001b[0m\u001b[0;34m=\u001b[0m\u001b[0mi\u001b[0m\u001b[0;34m)\u001b[0m\u001b[0;34m)\u001b[0m\u001b[0;34m\u001b[0m\u001b[0;34m\u001b[0m\u001b[0m\n\u001b[0m\u001b[1;32m     16\u001b[0m     \u001b[0mi\u001b[0m \u001b[0;34m+=\u001b[0m \u001b[0;36m1\u001b[0m\u001b[0;34m\u001b[0m\u001b[0;34m\u001b[0m\u001b[0m\n\u001b[1;32m     17\u001b[0m     \u001b[0mtime\u001b[0m\u001b[0;34m.\u001b[0m\u001b[0msleep\u001b[0m\u001b[0;34m(\u001b[0m\u001b[0mscroll_pause_time\u001b[0m\u001b[0;34m)\u001b[0m\u001b[0;34m\u001b[0m\u001b[0;34m\u001b[0m\u001b[0m\n",
      "\u001b[0;31mNameError\u001b[0m: name 'screen_height' is not defined"
     ]
    }
   ],
   "source": [
    "#Chrome webdriver to prepare for data scraping\n",
    "url = 'https://www.vivino.com/explore?e=eJzLLbI1VMvNzLM1UMtNrACSyZW2ocFqyUDCRa0AKJeeZluWWJSZWpKYo5ZflGKrlp9UaatWbJuXBQAuDhMm'\n",
    "s = Service('/Users/soohojohn/Desktop/Flatiron/Moonbae Wine/chromedriver')\n",
    "driver = webdriver.Chrome(service=s)\n",
    "driver.get(url)\n",
    "time.sleep(3)\n",
    "\n",
    "#//*[@id=\"explore-page-app\"]/div/div/div[2]/div[2]/div[1]/div[1]/div/a/div/div[2]/div/div[1]/div[2]\n",
    "#//*[@id=\"explore-page-app\"]/div/div/div[2]/div[2]/div[1]/div[1]/div/a/div/div[3]/div[1]/div[1]\n",
    "#//*[@id=\"explore-page-app\"]/div/div/div[2]/div[1]/div[1]/div/a/div[1]/div[2]/div[1]/div[2]/div[2]\n",
    "#//*[@id=\"explore-page-app\"]/div/div/div[2]/div[1]/div[1]/div/a/div[2]/div[2]/div\n",
    "#driver.find_element(By.CLASS_NAME, \"quiz_button\")\n",
    "while True:\n",
    "    # scroll one screen height each time\n",
    "    driver.execute_script(\"window.scrollTo(0, {screen_height}*{i});\".format(screen_height=screen_height, i=i))  \n",
    "    i += 1\n",
    "    time.sleep(scroll_pause_time)\n",
    "    # update scroll height each time after scrolled, as the scroll height can change after we scrolled the page\n",
    "    scroll_height = driver.execute_script(\"return document.body.scrollHeight;\")  \n",
    "    # Break the loop when the height we need to scroll to is larger than the total scroll height\n",
    "    if (screen_height) * i > scroll_height:\n",
    "        break \n",
    "\n",
    "name=[]\n",
    "location=[]\n",
    "rating=[]\n",
    "num_rating=[]\n",
    "\n",
    "soup = BeautifulSoup(driver.page_source, \"html.parser\")\n",
    "for wine in soup.find_all('a', class_='_3qc2M wineCard__cardLink--3F_uB'):\n",
    "    name.append(wine.find(class_=\"wineInfoVintage__vintage--VvWlU wineInfoVintage__truncate--3QAtw\").text)\n",
    "    location.append(wine.find(class_='wineInfoLocation__regionAndCountry--1nEJz').text)\n",
    "    rating.append(wine.find(class_='_19ZcA').text)\n",
    "    num_rating.append(wine.find(class_= '_1_k5A').text)"
   ]
  },
  {
   "cell_type": "markdown",
   "metadata": {},
   "source": [
    "## urls"
   ]
  },
  {
   "cell_type": "code",
   "execution_count": null,
   "metadata": {
    "scrolled": true
   },
   "outputs": [],
   "source": [
    "scrapy shell <'https://www.vivino.com/api/vintages/151271141/highlights?language=en'>"
   ]
  },
  {
   "cell_type": "code",
   "execution_count": null,
   "metadata": {},
   "outputs": [],
   "source": [
    "selenium = get_selenium()\n",
    "selenium.get(\"https://www.vivino.com/explore?e=eJzLLbI1VMvNzLM1UMtNrACSyZW2ocFqyUDCRa0AKJeeZluWWJSZWpKYo5ZflGKrlp9UaatWbJuXBQAuDhMm\")\n",
    "last_elem = ''\n",
    "while True:\n",
    "    current_last_elem = \"\""
   ]
  },
  {
   "cell_type": "code",
   "execution_count": null,
   "metadata": {},
   "outputs": [],
   "source": [
    "class Sel(unittest.TestCase):\n",
    "    def setUp(self):\n",
    "        self.driver = webdriver.Firefox()\n",
    "        self.driver.implicitly_wait(30)\n",
    "        self.base_url = \"https://twitter.com\"\n",
    "        self.verificationErrors = []\n",
    "        self.accept_next_alert = True\n",
    "    def test_sel(self):\n",
    "        driver = self.driver\n",
    "        delay = 3\n",
    "        driver.get(self.base_url + \"/search?q=stckoverflow&src=typd\")\n",
    "        driver.find_element_by_link_text(\"All\").click()\n",
    "        for i in range(1,100):\n",
    "            self.driver.execute_script(\"window.scrollTo(0, document.body.scrollHeight);\")\n",
    "            time.sleep(4)\n",
    "        html_source = driver.page_source\n",
    "        data = html_source.encode('utf-8')\n",
    "\n",
    "\n",
    "if __name__ == \"__main__\":\n",
    "    unittest.main()"
   ]
  },
  {
   "cell_type": "code",
   "execution_count": null,
   "metadata": {},
   "outputs": [],
   "source": [
    "#Connect to website\n",
    "def check_wine\n",
    "    URL = 'https://www.vivino.com/explore?e=eJzLLbI1VMvNzLM1UMtNrACSyZW2ocFqyUDCRa0AKJeeZluWWJSZWpKYo5ZflGKrlp9UaatWbJuXBQAuDhMm'\n",
    "\n",
    "    headers = {\"User-Agent\": \"Mozilla/5.0 (Windows NT 10.0; Win64; x64) AppleWebKit/537.36 (KHTML, like Gecko) Chrome/78.0.3904.108 Safari/537.36\", \"Accept-Encoding\":\"gzip, deflate\", \"Accept\":\"text/html,application/xhtml+xml,application/xml;q=0.9,*/*;q=0.8\", \"DNT\":\"1\",\"Connection\":\"close\", \"Upgrade-Insecure-Requests\":\"1\"}\n",
    "\n",
    "    page = requests.get(URL, headers=headers)\n",
    "\n",
    "    soup1 = BeautifulSoup(page.content, 'html.parser')\n",
    "    soup2 = BeautifulSoup(soup1.prettify(), 'html.parser')\n",
    "\n",
    "    title = soup2.find(class_=\"vintage\").get_text().strip()\n",
    "    class=\"wineInfoVintage__vintage--VvWlU wineInfoVintage__truncate--3QAtw\"\n",
    "    \n",
    "\n",
    "year = title[-4:]\n",
    "ratings = soup2.find\n",
    "class=\"_19ZcA\"\n",
    "number of reviews\n",
    "class=\"_1_k5A\"\n",
    "location\n",
    "class=\"wineInfoLocation__wineInfoLocation--BmkcO\"\n",
    "print(title)\n"
   ]
  },
  {
   "cell_type": "code",
   "execution_count": null,
   "metadata": {},
   "outputs": [],
   "source": []
  },
  {
   "cell_type": "code",
   "execution_count": null,
   "metadata": {},
   "outputs": [],
   "source": [
    "#Connect to website\n",
    "def check_wine\n",
    "    URL = 'https://www.vivino.com/explore?e=eJzLLbI1VMvNzLM1UMtNrACSyZW2ocFqyUDCRa0AKJeeZluWWJSZWpKYo5ZflGKrlp9UaatWbJuXBQAuDhMm'\n",
    "\n",
    "    headers = {\"User-Agent\": \"Mozilla/5.0 (Windows NT 10.0; Win64; x64) AppleWebKit/537.36 (KHTML, like Gecko) Chrome/78.0.3904.108 Safari/537.36\", \"Accept-Encoding\":\"gzip, deflate\", \"Accept\":\"text/html,application/xhtml+xml,application/xml;q=0.9,*/*;q=0.8\", \"DNT\":\"1\",\"Connection\":\"close\", \"Upgrade-Insecure-Requests\":\"1\"}\n",
    "\n",
    "    page = requests.get(URL, headers=headers)\n",
    "\n",
    "    soup1 = BeautifulSoup(page.content, 'html.parser')\n",
    "    soup2 = BeautifulSoup(soup1.prettify(), 'html.parser')\n",
    "\n",
    "    title = soup2.find(class_=\"vintage\").get_text().strip()\n",
    "    class=\"wineInfoVintage__vintage--VvWlU wineInfoVintage__truncate--3QAtw\"\n",
    "    \n",
    "\n",
    "year = title[-4:]\n",
    "ratings = soup2.find\n",
    "class=\"_19ZcA\"\n",
    "number of reviews\n",
    "class=\"_1_k5A\"\n",
    "location\n",
    "class=\"wineInfoLocation__wineInfoLocation--BmkcO\"\n",
    "print(title)\n"
   ]
  },
  {
   "cell_type": "code",
   "execution_count": null,
   "metadata": {},
   "outputs": [],
   "source": [
    "#Connect to website\n",
    "URL = 'https://www.vivino.com/explore?e=eJzLLbI1VMvNzLM1UMtNrACSyZW2ocFqyUDCRa0AKJeeZluWWJSZWpKYo5ZflGKrlp9UaatWbJuXBQAuDhMm'\n",
    "headers = {\"User-Agent\": \"Mozilla/5.0 (Windows NT 10.0; Win64; x64) AppleWebKit/537.36 (KHTML, like Gecko) Chrome/78.0.3904.108 Safari/537.36\", \"Accept-Encoding\":\"gzip, deflate\", \"Accept\":\"text/html,application/xhtml+xml,application/xml;q=0.9,*/*;q=0.8\", \"DNT\":\"1\",\"Connection\":\"close\", \"Upgrade-Insecure-Requests\":\"1\"}\n",
    "\n",
    "page = requests.get(URL, headers=headers)\n",
    "\n",
    "soup1 = BeautifulSoup(page.content, 'html.parser')\n",
    "soup2 = BeautifulSoup(soup1.prettify(), 'html.parser')\n",
    "\n",
    "title = soup2.find('div', {'class':\"wineInfoVintage__vintage--VvWlU wineInfoVintage__truncate--3QAtw\"})\n",
    "    #year = title[-4:]\n",
    "#ratings = soup2.find(class_=\"_19ZcA\").get_text()\n",
    "#num_reviews = soup2.find(class_=\"_1_k5A\").get_text()\n",
    "#location = soup2.find(class_=\"wineInfoLocation__wineInfoLocation--BmkcO\").get_text()\n",
    "print(title)\n"
   ]
  },
  {
   "cell_type": "code",
   "execution_count": null,
   "metadata": {},
   "outputs": [],
   "source": [
    "img_urls = set()\n",
    "for i in  range(0,len(imgResults)):\n",
    "    img=imgResults[i]\n",
    "    try:\n",
    "        img.click()\n",
    "        time.sleep(2)\n",
    "        actual_images = driver.find_elements_by_css_selector('img.n3VNCb')\n",
    "        for actual_image in actual_images:\n",
    "            if actual_image.get_attribute('src') and 'https' in actual_image.get_attribute('src'):\n",
    "                img_urls.add(actual_image.get_attribute('src'))\n",
    "    except ElementClickInterceptedException or ElementNotInteractableException as err:\n",
    "        print(err)"
   ]
  },
  {
   "cell_type": "code",
   "execution_count": null,
   "metadata": {},
   "outputs": [],
   "source": []
  }
 ],
 "metadata": {
  "kernelspec": {
   "display_name": "Python 3",
   "language": "python",
   "name": "python3"
  },
  "language_info": {
   "codemirror_mode": {
    "name": "ipython",
    "version": 3
   },
   "file_extension": ".py",
   "mimetype": "text/x-python",
   "name": "python",
   "nbconvert_exporter": "python",
   "pygments_lexer": "ipython3",
   "version": "3.8.5"
  }
 },
 "nbformat": 4,
 "nbformat_minor": 4
}
